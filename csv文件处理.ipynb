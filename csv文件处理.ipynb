{
 "cells": [
  {
   "cell_type": "code",
   "execution_count": 7,
   "id": "3e834d21-7803-4dbc-a69d-c1288ade8cab",
   "metadata": {},
   "outputs": [
    {
     "name": "stdout",
     "output_type": "stream",
     "text": [
      "input.csv 生成成功！\n",
      "output.csv 生成成功！\n"
     ]
    }
   ],
   "source": [
    "import os\n",
    "import pandas as pd\n",
    "\n",
    "# 设定数据文件夹路径\n",
    "data_folder = \"data\"\n",
    "\n",
    "# 目标列名\n",
    "input_columns = [\"Time\", \"AntriebsmomentVA\", \"AntriebsmomentHA\", \"Lenkwinkel\", \"BremsmomentVA\", \"BremsmomentHA\", \"Geschw_S\"]\n",
    "output_columns = [\"Time\", \"KS_X\", \"KS_Y\", \"Gierwinkel\", \"Geschw_X\", \"Geschw_Y\", \"Giergeschwindigkeit\"]\n",
    "\n",
    "# 存储数据的列表\n",
    "input_data = []\n",
    "output_data = []\n",
    "\n",
    "# 遍历data文件夹下的所有子文件夹\n",
    "for root, dirs, files in os.walk(data_folder):\n",
    "    if \"Importdata_4ms.csv\" in files:\n",
    "        input_file_path = os.path.join(root, \"Importdata_4ms.csv\")\n",
    "        df_input = pd.read_csv(input_file_path)\n",
    "        df_input = df_input[input_columns]  # 仅保留所需列\n",
    "        input_data.append(df_input)\n",
    "    \n",
    "    if \"Exportdata_4ms.csv\" in files:\n",
    "        output_file_path = os.path.join(root, \"Exportdata_4ms.csv\")\n",
    "        df_output = pd.read_csv(output_file_path)\n",
    "        df_output = df_output[output_columns]  # 仅保留所需列\n",
    "        output_data.append(df_output)\n",
    "\n",
    "# 合并所有数据\n",
    "if input_data:\n",
    "    final_input_df = pd.concat(input_data, ignore_index=True)\n",
    "    final_input_df.to_csv(\"input.csv\", index=False)\n",
    "    print(\"input.csv 生成成功！\")\n",
    "else:\n",
    "    print(\"未找到任何 Importdata_4ms.csv 文件！\")\n",
    "\n",
    "if output_data:\n",
    "    final_output_df = pd.concat(output_data, ignore_index=True)\n",
    "    final_output_df.to_csv(\"output.csv\", index=False)\n",
    "    print(\"output.csv 生成成功！\")\n",
    "else:\n",
    "    print(\"未找到任何 Exportdata_4ms.csv 文件！\")\n"
   ]
  },
  {
   "cell_type": "code",
   "execution_count": null,
   "id": "10677db7-28a8-46f6-9203-344fbcff81a5",
   "metadata": {},
   "outputs": [],
   "source": []
  }
 ],
 "metadata": {
  "kernelspec": {
   "display_name": "Python [conda env:base] *",
   "language": "python",
   "name": "conda-base-py"
  },
  "language_info": {
   "codemirror_mode": {
    "name": "ipython",
    "version": 3
   },
   "file_extension": ".py",
   "mimetype": "text/x-python",
   "name": "python",
   "nbconvert_exporter": "python",
   "pygments_lexer": "ipython3",
   "version": "3.12.7"
  }
 },
 "nbformat": 4,
 "nbformat_minor": 5
}
