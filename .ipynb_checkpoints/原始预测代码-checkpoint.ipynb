{
 "cells": [
  {
   "cell_type": "code",
   "execution_count": 17,
   "id": "5c58f69d-15a7-4e35-9701-88c35e971005",
   "metadata": {},
   "outputs": [
    {
     "name": "stderr",
     "output_type": "stream",
     "text": [
      "WARNING:absl:Compiled the loaded model, but the compiled metrics have yet to be built. `model.compile_metrics` will be empty until you train or evaluate the model.\n"
     ]
    },
    {
     "name": "stdout",
     "output_type": "stream",
     "text": [
      "\u001b[1m782/782\u001b[0m \u001b[32m━━━━━━━━━━━━━━━━━━━━\u001b[0m\u001b[37m\u001b[0m \u001b[1m1s\u001b[0m 1ms/step\n"
     ]
    }
   ],
   "source": [
    "from tensorflow.keras.models import Sequential\n",
    "from tensorflow.keras.layers import LSTM, Dense\n",
    "from tensorflow.keras.models import Sequential, load_model\n",
    "from sklearn.preprocessing import MinMaxScaler\n",
    "import pandas as pd\n",
    "import numpy as np\n",
    "import os\n",
    "\n",
    "\n",
    "#读取模型\n",
    "model = load_model('predict_model.h5')\n",
    "#读取需要预测的数据\n",
    "Import_csv_file = './test.csv'\n",
    "Import_df = pd.read_csv(Import_csv_file)\n",
    "\n",
    "def merge_csv_files(directory, Import_csv_file):\n",
    "    # 存储所有DataFrame的列表\n",
    "    df_list = []\n",
    "    # 遍历目录\n",
    "    # for filename in os.listdir(directory):\n",
    "        # if filename.endswith('.csv'):\n",
    "    for root, dirs, files in os.walk(directory):\n",
    "        for file in files:\n",
    "            if file == Import_csv_file:\n",
    "                # 读取CSV文件\n",
    "                df = pd.read_csv(os.path.join(root, file))\n",
    "                df_list.append(df)\n",
    "\n",
    "    # 合并所有DataFrame\n",
    "    merged_df = pd.concat(df_list, ignore_index=True)\n",
    "    return merged_df\n",
    "\n",
    "# 使用函数\n",
    "directory_path = './data'  # 指定目录路径\n",
    "Exoport_csv_file = 'Exportdata_4ms.csv'  # 合并后的Import CSV文件名\n",
    "Exoport_merged_data = merge_csv_files(directory_path, Exoport_csv_file)\n",
    "\n",
    "# 获取表头\n",
    "y_headers = Exoport_merged_data.columns.tolist()\n",
    "\n",
    "# # 选择输入和输出列\n",
    "y = Exoport_merged_data[y_headers[1:]].values  # 输出列\n",
    "\n",
    "# 归一化数据\n",
    "scaler_X = MinMaxScaler(feature_range=(0, 1))\n",
    "scaler_y = MinMaxScaler(feature_range=(0, 1))\n",
    "\n",
    "y_scaled = scaler_y.fit_transform(y)\n",
    "\n",
    "\n",
    "\n",
    "# 获取表头\n",
    "x_headers = Import_df.columns.tolist()\n",
    "\n",
    "# # 选择输入和输出列\n",
    "X = Import_df[x_headers[0:8]].values  # 输入列\n",
    "X_scaled = scaler_X.fit_transform(X)\n",
    "\n",
    "# 将数据转换为LSTM所需的时间步格式\n",
    "def create_dataset(X, time_step=5, forecast_horizon=1):\n",
    "    X_data = []\n",
    "    for i in range(len(X) - time_step - forecast_horizon + 1):\n",
    "        X_data.append(X[i:(i + time_step)])  # 过去time_step个时间步的数据\n",
    "    return np.array(X_data)\n",
    "\n",
    "time_step = 5  # 输入时间步数\n",
    "forecast_horizon = 1  # 预测1个未来时间步\n",
    "X_data = create_dataset(X_scaled, time_step, forecast_horizon)\n",
    "\n",
    "# 预测结果\n",
    "y_pred = model.predict(X_data)\n",
    "# 由于y_pred和y_test有forecast_horizon * 6个特征，需要先重塑形状再进行反归一化\n",
    "y_pred_reshaped = y_pred.reshape(-1, 6)  # (samples * forecast_horizon, 6)\n",
    "y_pred_rescaled = scaler_y.inverse_transform(y_pred_reshaped).reshape(y_pred.shape[0], forecast_horizon,6)\n",
    "# 将NumPy数组转换为Pandas DataFrame\n",
    "pred_df = pd.DataFrame(y_pred_rescaled.reshape(-1,6))\n",
    "pred_df.columns =  y_headers[1:]\n",
    "merged_data = pd.concat([Import_df[x_headers[0:7]], pred_df], axis=1)\n",
    "# 保存DataFrame到CSV文件\n",
    "merged_data.to_csv('pred_result.csv', index=False)"
   ]
  },
  {
   "cell_type": "code",
   "execution_count": null,
   "id": "140ee12c-4f79-4482-a972-1c80bb555484",
   "metadata": {},
   "outputs": [],
   "source": []
  }
 ],
 "metadata": {
  "kernelspec": {
   "display_name": "Python [conda env:base] *",
   "language": "python",
   "name": "conda-base-py"
  },
  "language_info": {
   "codemirror_mode": {
    "name": "ipython",
    "version": 3
   },
   "file_extension": ".py",
   "mimetype": "text/x-python",
   "name": "python",
   "nbconvert_exporter": "python",
   "pygments_lexer": "ipython3",
   "version": "3.12.7"
  }
 },
 "nbformat": 4,
 "nbformat_minor": 5
}
