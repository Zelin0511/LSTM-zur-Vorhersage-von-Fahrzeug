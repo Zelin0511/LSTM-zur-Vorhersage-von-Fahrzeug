{
 "cells": [
  {
   "cell_type": "code",
   "execution_count": null,
   "id": "f66449a3-aeb4-4876-943c-1492102d982c",
   "metadata": {},
   "outputs": [],
   "source": [
    "import numpy as np\n",
    "import pandas as pd\n",
    "import tensorflow as tf\n",
    "import matplotlib.pyplot as plt\n",
    "from tensorflow.keras.models import Sequential\n",
    "from tensorflow.keras.layers import LSTM, Dense\n",
    "from sklearn.preprocessing import MinMaxScaler\n",
    "\n",
    "# 读取输入数据\n",
    "input_file = \"input.csv\"  # 输入 CSV 文件\n",
    "output_file = \"output.csv\"  # 输出 CSV 文件\n",
    "predictions_file = \"predictions.csv\"  # 预测结果文件\n",
    "\n",
    "df_input = pd.read_csv(input_file)\n",
    "df_output = pd.read_csv(output_file)\n",
    "df_predictions = pd.read_csv(predictions_file)\n",
    "\n",
    "# 确保时间一致\n",
    "df_output = df_output[df_output['Time'].isin(df_predictions['Time'])]\n",
    "df_predictions = df_predictions[df_predictions['Time'].isin(df_output['Time'])]\n",
    "\n",
    "df_output.sort_values(by=\"Time\", inplace=True)\n",
    "df_predictions.sort_values(by=\"Time\", inplace=True)\n",
    "\n",
    "# 绘制对比曲线\n",
    "def plot_comparison(df_output, df_predictions, feature):\n",
    "    plt.figure(figsize=(12, 6))\n",
    "    plt.plot(df_output[\"Time\"], df_output[feature], label=f\"Actual {feature}\", linestyle='dashed')\n",
    "    plt.plot(df_predictions[\"Time\"], df_predictions[feature], label=f\"Predicted {feature}\")\n",
    "    plt.xlabel(\"Time\")\n",
    "    plt.ylabel(feature)\n",
    "    plt.legend()\n",
    "    plt.title(f\"Comparison of Actual vs Predicted {feature}\")\n",
    "    plt.show()\n",
    "\n",
    "# 对比所有输出变量\n",
    "output_features = [\"KS_X\", \"KS_Y\", \"Giergeschwindigkeit\", \"Gierwinkel\", \"Geschw_X\", \"Geschw_Y\"]\n",
    "for feature in output_features:\n",
    "    plot_comparison(df_output, df_predictions, feature)\n",
    "\n",
    "print(\"对比图已生成！\")\n"
   ]
  }
 ],
 "metadata": {
  "kernelspec": {
   "display_name": "Python [conda env:base] *",
   "language": "python",
   "name": "conda-base-py"
  },
  "language_info": {
   "codemirror_mode": {
    "name": "ipython",
    "version": 3
   },
   "file_extension": ".py",
   "mimetype": "text/x-python",
   "name": "python",
   "nbconvert_exporter": "python",
   "pygments_lexer": "ipython3",
   "version": "3.12.7"
  }
 },
 "nbformat": 4,
 "nbformat_minor": 5
}
