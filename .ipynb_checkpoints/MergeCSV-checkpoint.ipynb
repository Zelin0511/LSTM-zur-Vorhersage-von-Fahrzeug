{
 "cells": [
  {
   "cell_type": "code",
   "execution_count": 1,
   "id": "d04da729-43e2-4a69-926e-9a20591732eb",
   "metadata": {},
   "outputs": [
    {
     "name": "stdout",
     "output_type": "stream",
     "text": [
      "CSV文件已成功合并并保存为 'merged_output.csv'.\n"
     ]
    }
   ],
   "source": [
    "# 导入必要的库\n",
    "import pandas as pd\n",
    "\n",
    "# 读取输入的CSV文件和输出的CSV文件\n",
    "input_df = pd.read_csv('input.csv')\n",
    "output_df = pd.read_csv('output.csv')\n",
    "\n",
    "# 将output.csv文件的内容添加到input.csv文件的后面\n",
    "merged_df = pd.concat([input_df, output_df], axis=1)\n",
    "\n",
    "# 将合并后的DataFrame保存为新的CSV文件\n",
    "merged_df.to_csv('merged_output.csv', index=False)\n",
    "\n",
    "print(\"CSV文件已成功合并并保存为 'merged_output.csv'.\")\n"
   ]
  },
  {
   "cell_type": "code",
   "execution_count": null,
   "id": "decaa83f-82b9-40fc-ada5-1686b1ed50d0",
   "metadata": {},
   "outputs": [],
   "source": []
  }
 ],
 "metadata": {
  "kernelspec": {
   "display_name": "Python [conda env:base] *",
   "language": "python",
   "name": "conda-base-py"
  },
  "language_info": {
   "codemirror_mode": {
    "name": "ipython",
    "version": 3
   },
   "file_extension": ".py",
   "mimetype": "text/x-python",
   "name": "python",
   "nbconvert_exporter": "python",
   "pygments_lexer": "ipython3",
   "version": "3.12.7"
  }
 },
 "nbformat": 4,
 "nbformat_minor": 5
}
