{
 "cells": [
  {
   "cell_type": "code",
   "execution_count": 7,
   "id": "5dafc9d1-3eb1-4438-bf4c-6ba6eabae565",
   "metadata": {},
   "outputs": [
    {
     "name": "stdout",
     "output_type": "stream",
     "text": [
      "Plots have been saved successfully.\n"
     ]
    }
   ],
   "source": [
    "import pandas as pd\n",
    "import matplotlib.pyplot as plt\n",
    "\n",
    "# Load the CSV files\n",
    "pred_result = pd.read_csv('predictions_updated.csv')\n",
    "output = pd.read_csv('outputT.csv')\n",
    "\n",
    "# List of columns to compare\n",
    "columns_to_compare = ['KS_X', 'KS_Y', 'Gierwinkel', 'Geschw_X', 'Geschw_Y', 'Giergeschwindigkeit']\n",
    "\n",
    "# Ensure both dataframes have the necessary columns and Time is present in both\n",
    "time_col = 'Time'\n",
    "if time_col not in pred_result.columns or time_col not in output.columns:\n",
    "    raise ValueError(f\"Both CSV files must contain a '{time_col}' column.\")\n",
    "\n",
    "# Merge the dataframes on the Time column\n",
    "merged_df = pd.merge(pred_result[[time_col] + columns_to_compare], \n",
    "                     output[[time_col] + columns_to_compare], \n",
    "                     on=time_col, \n",
    "                     suffixes=('_pred', '_output'))\n",
    "\n",
    "# Plot each column comparison\n",
    "for col in columns_to_compare:\n",
    "    plt.figure(figsize=(10, 6))\n",
    "    plt.plot(merged_df[time_col], merged_df[f'{col}_pred'], label=f'{col} (pred_result)', linestyle='--')\n",
    "    plt.plot(merged_df[time_col], merged_df[f'{col}_output'], label=f'{col} (output)')\n",
    "    plt.xlabel('Time')\n",
    "    plt.ylabel(col)\n",
    "    plt.title(f'Comparison of {col}')\n",
    "    plt.legend()\n",
    "    plt.grid()\n",
    "    # Save the figure\n",
    "    plt.savefig(f'comparison_{col}.png')\n",
    "    plt.close()\n",
    "\n",
    "print(\"Plots have been saved successfully.\")\n"
   ]
  },
  {
   "cell_type": "code",
   "execution_count": null,
   "id": "427bc992-dfe8-49bf-84d7-1fe84749fee9",
   "metadata": {},
   "outputs": [],
   "source": []
  }
 ],
 "metadata": {
  "kernelspec": {
   "display_name": "Python [conda env:base] *",
   "language": "python",
   "name": "conda-base-py"
  },
  "language_info": {
   "codemirror_mode": {
    "name": "ipython",
    "version": 3
   },
   "file_extension": ".py",
   "mimetype": "text/x-python",
   "name": "python",
   "nbconvert_exporter": "python",
   "pygments_lexer": "ipython3",
   "version": "3.12.7"
  }
 },
 "nbformat": 4,
 "nbformat_minor": 5
}
