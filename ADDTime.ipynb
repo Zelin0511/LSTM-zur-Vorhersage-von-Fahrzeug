{
 "cells": [
  {
   "cell_type": "code",
   "execution_count": 7,
   "id": "f66449a3-aeb4-4876-943c-1492102d982c",
   "metadata": {},
   "outputs": [
    {
     "name": "stdout",
     "output_type": "stream",
     "text": [
      "Time 列已添加到 predictions.csv，并保存为 predictions_updated.csv！\n"
     ]
    }
   ],
   "source": [
    "import pandas as pd\n",
    "\n",
    "# 读取数据\n",
    "output_file = \"output.csv\"\n",
    "predictions_file = \"predictions.csv\"\n",
    "\n",
    "df_output = pd.read_csv(output_file)\n",
    "df_predictions = pd.read_csv(predictions_file)\n",
    "\n",
    "# 确保两者长度匹配\n",
    "min_length = min(len(df_output), len(df_predictions))\n",
    "\n",
    "df_predictions[\"Time\"] = df_output[\"Time\"].values[:min_length]  # 只取匹配的部分\n",
    "\n",
    "# 保存新的 predictions.csv\n",
    "df_predictions.to_csv(\"predictions_updated.csv\", index=False)\n",
    "\n",
    "print(\"Time 列已添加到 predictions.csv，并保存为 predictions_updated.csv！\")\n"
   ]
  },
  {
   "cell_type": "code",
   "execution_count": null,
   "id": "ce9b266e-ca74-42f4-907b-d4622c51f0ce",
   "metadata": {},
   "outputs": [],
   "source": []
  }
 ],
 "metadata": {
  "kernelspec": {
   "display_name": "Python [conda env:base] *",
   "language": "python",
   "name": "conda-base-py"
  },
  "language_info": {
   "codemirror_mode": {
    "name": "ipython",
    "version": 3
   },
   "file_extension": ".py",
   "mimetype": "text/x-python",
   "name": "python",
   "nbconvert_exporter": "python",
   "pygments_lexer": "ipython3",
   "version": "3.12.7"
  }
 },
 "nbformat": 4,
 "nbformat_minor": 5
}
