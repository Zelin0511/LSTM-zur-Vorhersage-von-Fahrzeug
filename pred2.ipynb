{
 "cells": [
  {
   "cell_type": "code",
   "execution_count": 2,
   "id": "39a64451-482a-4f75-a007-dcd9eb4925c0",
   "metadata": {},
   "outputs": [
    {
     "name": "stderr",
     "output_type": "stream",
     "text": [
      "WARNING:absl:Compiled the loaded model, but the compiled metrics have yet to be built. `model.compile_metrics` will be empty until you train or evaluate the model.\n"
     ]
    },
    {
     "ename": "ValueError",
     "evalue": "cannot reshape array of size 30 into shape (1,5,5)",
     "output_type": "error",
     "traceback": [
      "\u001b[1;31m---------------------------------------------------------------------------\u001b[0m",
      "\u001b[1;31mValueError\u001b[0m                                Traceback (most recent call last)",
      "Cell \u001b[1;32mIn[2], line 47\u001b[0m\n\u001b[0;32m     45\u001b[0m \u001b[38;5;28;01mfor\u001b[39;00m i \u001b[38;5;129;01min\u001b[39;00m \u001b[38;5;28mrange\u001b[39m(time_step, \u001b[38;5;28mlen\u001b[39m(X_scaled)):\n\u001b[0;32m     46\u001b[0m     input_seq \u001b[38;5;241m=\u001b[39m np\u001b[38;5;241m.\u001b[39marray(y_pred[\u001b[38;5;241m-\u001b[39mtime_step:])  \u001b[38;5;66;03m# 取最近的time_step个数据\u001b[39;00m\n\u001b[1;32m---> 47\u001b[0m     input_seq \u001b[38;5;241m=\u001b[39m input_seq\u001b[38;5;241m.\u001b[39mreshape(\u001b[38;5;241m1\u001b[39m, time_step, X\u001b[38;5;241m.\u001b[39mshape[\u001b[38;5;241m1\u001b[39m])\n\u001b[0;32m     48\u001b[0m     pred \u001b[38;5;241m=\u001b[39m model\u001b[38;5;241m.\u001b[39mpredict(input_seq, verbose\u001b[38;5;241m=\u001b[39m\u001b[38;5;241m0\u001b[39m)\n\u001b[0;32m     49\u001b[0m     y_pred\u001b[38;5;241m.\u001b[39mappend(pred[\u001b[38;5;241m0\u001b[39m])\n",
      "\u001b[1;31mValueError\u001b[0m: cannot reshape array of size 30 into shape (1,5,5)"
     ]
    }
   ],
   "source": [
    "from tensorflow.keras.models import load_model\n",
    "from sklearn.preprocessing import MinMaxScaler\n",
    "import pandas as pd\n",
    "import numpy as np\n",
    "\n",
    "# 读取训练好的模型\n",
    "model = load_model('predict_model.h5')\n",
    "\n",
    "# 读取需要预测的数据\n",
    "Import_csv_file = './merged_output.csv'\n",
    "Import_df = pd.read_csv(Import_csv_file)\n",
    "\n",
    "# 删除重复的 'Time' 列（如果存在）\n",
    "if 'Time' in Import_df.columns.duplicated():\n",
    "    Import_df = Import_df.loc[:, ~Import_df.columns.duplicated()]\n",
    "\n",
    "# 选择输入列（从第二列到第六列，控制和动力相关特征）\n",
    "X = Import_df[['AntriebsmomentVA', 'AntriebsmomentHA', 'Lenkwinkel', 'BremsmomentVA', 'BremsmomentHA']].values\n",
    "\n",
    "# 选择输出列（如车辆状态和行为相关特征）\n",
    "y = Import_df[['KS_X', 'KS_Y', 'Gierwinkel', 'Geschw_X', 'Geschw_Y', 'Giergeschwindigkeit']].values\n",
    "\n",
    "# 归一化输入数据\n",
    "scaler_X = MinMaxScaler(feature_range=(0, 1))\n",
    "X_scaled = scaler_X.fit_transform(X)\n",
    "\n",
    "# 归一化输出数据\n",
    "scaler_y = MinMaxScaler(feature_range=(0, 1))\n",
    "y_scaled = scaler_y.fit_transform(y)\n",
    "\n",
    "# 将数据转换为LSTM所需的时间步格式\n",
    "def create_dataset(X, time_step=1):\n",
    "    X_data = []\n",
    "    for i in range(len(X) - time_step):\n",
    "        X_data.append(X[i:(i + time_step)])\n",
    "    return np.array(X_data)\n",
    "\n",
    "time_step = 5\n",
    "X_data = create_dataset(X_scaled, time_step)\n",
    "\n",
    "# 初始化预测结果列表，将前五个时间步的真实值直接作为预测值\n",
    "y_pred = list(y_scaled[:time_step])\n",
    "\n",
    "# 从第六个时间步开始逐步预测\n",
    "for i in range(time_step, len(X_scaled)):\n",
    "    input_seq = np.array(y_pred[-time_step:])  # 取最近的time_step个数据\n",
    "    input_seq = input_seq.reshape(1, time_step, X.shape[1])\n",
    "    pred = model.predict(input_seq, verbose=0)\n",
    "    y_pred.append(pred[0])\n",
    "\n",
    "# 转换为numpy数组\n",
    "y_pred = np.array(y_pred)\n",
    "\n",
    "# 反归一化预测结果\n",
    "y_pred_rescaled = scaler_y.inverse_transform(y_pred)\n",
    "\n",
    "# 将预测结果转换为DataFrame\n",
    "pred_df = pd.DataFrame(y_pred_rescaled, columns=['KS_X', 'KS_Y', 'Gierwinkel', 'Geschw_X', 'Geschw_Y', 'Giergeschwindigkeit'])\n",
    "\n",
    "# 将预测结果与原始数据合并\n",
    "merged_data = pd.concat([Import_df.reset_index(drop=True), pred_df], axis=1)\n",
    "\n",
    "# 保存结果到CSV文件\n",
    "merged_data.to_csv('pred_result.csv', index=False)\n",
    "print(\"预测结果已保存到 pred_result.csv\")\n"
   ]
  },
  {
   "cell_type": "code",
   "execution_count": null,
   "id": "40668b29-fa4d-4e61-aa6c-d354600e61d6",
   "metadata": {},
   "outputs": [],
   "source": []
  }
 ],
 "metadata": {
  "kernelspec": {
   "display_name": "Python [conda env:base] *",
   "language": "python",
   "name": "conda-base-py"
  },
  "language_info": {
   "codemirror_mode": {
    "name": "ipython",
    "version": 3
   },
   "file_extension": ".py",
   "mimetype": "text/x-python",
   "name": "python",
   "nbconvert_exporter": "python",
   "pygments_lexer": "ipython3",
   "version": "3.12.7"
  }
 },
 "nbformat": 4,
 "nbformat_minor": 5
}
