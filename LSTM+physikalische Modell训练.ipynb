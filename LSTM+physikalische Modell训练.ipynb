{
 "cells": [
  {
   "cell_type": "code",
   "execution_count": 5,
   "id": "cd0b01c6-1dde-433a-9cb0-68e159c9ab55",
   "metadata": {},
   "outputs": [
    {
     "name": "stdout",
     "output_type": "stream",
     "text": [
      "Epoch 1/10\n"
     ]
    },
    {
     "name": "stderr",
     "output_type": "stream",
     "text": [
      "C:\\Users\\Zelin\\AppData\\Roaming\\Python\\Python312\\site-packages\\keras\\src\\layers\\rnn\\rnn.py:200: UserWarning: Do not pass an `input_shape`/`input_dim` argument to a layer. When using Sequential models, prefer using an `Input(shape)` object as the first layer in the model instead.\n",
      "  super().__init__(**kwargs)\n"
     ]
    },
    {
     "name": "stdout",
     "output_type": "stream",
     "text": [
      "\u001b[1m781/781\u001b[0m \u001b[32m━━━━━━━━━━━━━━━━━━━━\u001b[0m\u001b[37m\u001b[0m \u001b[1m5s\u001b[0m 3ms/step - loss: 0.0255\n",
      "Epoch 2/10\n",
      "\u001b[1m781/781\u001b[0m \u001b[32m━━━━━━━━━━━━━━━━━━━━\u001b[0m\u001b[37m\u001b[0m \u001b[1m3s\u001b[0m 3ms/step - loss: 3.0912e-04\n",
      "Epoch 3/10\n",
      "\u001b[1m781/781\u001b[0m \u001b[32m━━━━━━━━━━━━━━━━━━━━\u001b[0m\u001b[37m\u001b[0m \u001b[1m3s\u001b[0m 3ms/step - loss: 3.6463e-04\n",
      "Epoch 4/10\n",
      "\u001b[1m781/781\u001b[0m \u001b[32m━━━━━━━━━━━━━━━━━━━━\u001b[0m\u001b[37m\u001b[0m \u001b[1m3s\u001b[0m 3ms/step - loss: 3.1054e-04\n",
      "Epoch 5/10\n",
      "\u001b[1m781/781\u001b[0m \u001b[32m━━━━━━━━━━━━━━━━━━━━\u001b[0m\u001b[37m\u001b[0m \u001b[1m3s\u001b[0m 3ms/step - loss: 3.4901e-04\n",
      "Epoch 6/10\n",
      "\u001b[1m781/781\u001b[0m \u001b[32m━━━━━━━━━━━━━━━━━━━━\u001b[0m\u001b[37m\u001b[0m \u001b[1m3s\u001b[0m 3ms/step - loss: 2.9600e-04\n",
      "Epoch 7/10\n",
      "\u001b[1m781/781\u001b[0m \u001b[32m━━━━━━━━━━━━━━━━━━━━\u001b[0m\u001b[37m\u001b[0m \u001b[1m3s\u001b[0m 3ms/step - loss: 2.5630e-04\n",
      "Epoch 8/10\n",
      "\u001b[1m781/781\u001b[0m \u001b[32m━━━━━━━━━━━━━━━━━━━━\u001b[0m\u001b[37m\u001b[0m \u001b[1m3s\u001b[0m 4ms/step - loss: 2.9053e-04\n",
      "Epoch 9/10\n",
      "\u001b[1m781/781\u001b[0m \u001b[32m━━━━━━━━━━━━━━━━━━━━\u001b[0m\u001b[37m\u001b[0m \u001b[1m3s\u001b[0m 3ms/step - loss: 2.6577e-04\n",
      "Epoch 10/10\n",
      "\u001b[1m781/781\u001b[0m \u001b[32m━━━━━━━━━━━━━━━━━━━━\u001b[0m\u001b[37m\u001b[0m \u001b[1m3s\u001b[0m 3ms/step - loss: 2.5493e-04\n",
      "Epoch 1/10\n"
     ]
    },
    {
     "name": "stderr",
     "output_type": "stream",
     "text": [
      "C:\\Users\\Zelin\\AppData\\Roaming\\Python\\Python312\\site-packages\\keras\\src\\layers\\rnn\\rnn.py:200: UserWarning: Do not pass an `input_shape`/`input_dim` argument to a layer. When using Sequential models, prefer using an `Input(shape)` object as the first layer in the model instead.\n",
      "  super().__init__(**kwargs)\n"
     ]
    },
    {
     "name": "stdout",
     "output_type": "stream",
     "text": [
      "\u001b[1m781/781\u001b[0m \u001b[32m━━━━━━━━━━━━━━━━━━━━\u001b[0m\u001b[37m\u001b[0m \u001b[1m3s\u001b[0m 1ms/step - loss: 0.1172\n",
      "Epoch 2/10\n",
      "\u001b[1m781/781\u001b[0m \u001b[32m━━━━━━━━━━━━━━━━━━━━\u001b[0m\u001b[37m\u001b[0m \u001b[1m1s\u001b[0m 1ms/step - loss: 0.0648\n",
      "Epoch 3/10\n",
      "\u001b[1m781/781\u001b[0m \u001b[32m━━━━━━━━━━━━━━━━━━━━\u001b[0m\u001b[37m\u001b[0m \u001b[1m1s\u001b[0m 1ms/step - loss: 0.0623\n",
      "Epoch 4/10\n",
      "\u001b[1m781/781\u001b[0m \u001b[32m━━━━━━━━━━━━━━━━━━━━\u001b[0m\u001b[37m\u001b[0m \u001b[1m1s\u001b[0m 1ms/step - loss: 0.0576\n",
      "Epoch 5/10\n",
      "\u001b[1m781/781\u001b[0m \u001b[32m━━━━━━━━━━━━━━━━━━━━\u001b[0m\u001b[37m\u001b[0m \u001b[1m1s\u001b[0m 1ms/step - loss: 0.0429\n",
      "Epoch 6/10\n",
      "\u001b[1m781/781\u001b[0m \u001b[32m━━━━━━━━━━━━━━━━━━━━\u001b[0m\u001b[37m\u001b[0m \u001b[1m1s\u001b[0m 1ms/step - loss: 0.0135\n",
      "Epoch 7/10\n",
      "\u001b[1m781/781\u001b[0m \u001b[32m━━━━━━━━━━━━━━━━━━━━\u001b[0m\u001b[37m\u001b[0m \u001b[1m1s\u001b[0m 1ms/step - loss: 0.0057\n",
      "Epoch 8/10\n",
      "\u001b[1m781/781\u001b[0m \u001b[32m━━━━━━━━━━━━━━━━━━━━\u001b[0m\u001b[37m\u001b[0m \u001b[1m1s\u001b[0m 1ms/step - loss: 0.0042\n",
      "Epoch 9/10\n",
      "\u001b[1m781/781\u001b[0m \u001b[32m━━━━━━━━━━━━━━━━━━━━\u001b[0m\u001b[37m\u001b[0m \u001b[1m1s\u001b[0m 1ms/step - loss: 0.0035\n",
      "Epoch 10/10\n",
      "\u001b[1m781/781\u001b[0m \u001b[32m━━━━━━━━━━━━━━━━━━━━\u001b[0m\u001b[37m\u001b[0m \u001b[1m1s\u001b[0m 1ms/step - loss: 0.0032\n",
      "Epoch 1/10\n"
     ]
    },
    {
     "name": "stderr",
     "output_type": "stream",
     "text": [
      "C:\\Users\\Zelin\\AppData\\Roaming\\Python\\Python312\\site-packages\\keras\\src\\layers\\rnn\\rnn.py:200: UserWarning: Do not pass an `input_shape`/`input_dim` argument to a layer. When using Sequential models, prefer using an `Input(shape)` object as the first layer in the model instead.\n",
      "  super().__init__(**kwargs)\n"
     ]
    },
    {
     "name": "stdout",
     "output_type": "stream",
     "text": [
      "\u001b[1m781/781\u001b[0m \u001b[32m━━━━━━━━━━━━━━━━━━━━\u001b[0m\u001b[37m\u001b[0m \u001b[1m3s\u001b[0m 1ms/step - loss: 0.0607\n",
      "Epoch 2/10\n",
      "\u001b[1m781/781\u001b[0m \u001b[32m━━━━━━━━━━━━━━━━━━━━\u001b[0m\u001b[37m\u001b[0m \u001b[1m1s\u001b[0m 1ms/step - loss: 0.0015\n",
      "Epoch 3/10\n",
      "\u001b[1m781/781\u001b[0m \u001b[32m━━━━━━━━━━━━━━━━━━━━\u001b[0m\u001b[37m\u001b[0m \u001b[1m1s\u001b[0m 1ms/step - loss: 1.6094e-04\n",
      "Epoch 4/10\n",
      "\u001b[1m781/781\u001b[0m \u001b[32m━━━━━━━━━━━━━━━━━━━━\u001b[0m\u001b[37m\u001b[0m \u001b[1m1s\u001b[0m 1ms/step - loss: 1.0438e-04\n",
      "Epoch 5/10\n",
      "\u001b[1m781/781\u001b[0m \u001b[32m━━━━━━━━━━━━━━━━━━━━\u001b[0m\u001b[37m\u001b[0m \u001b[1m1s\u001b[0m 1ms/step - loss: 7.9664e-05\n",
      "Epoch 6/10\n",
      "\u001b[1m781/781\u001b[0m \u001b[32m━━━━━━━━━━━━━━━━━━━━\u001b[0m\u001b[37m\u001b[0m \u001b[1m1s\u001b[0m 1ms/step - loss: 6.5753e-05\n",
      "Epoch 7/10\n",
      "\u001b[1m781/781\u001b[0m \u001b[32m━━━━━━━━━━━━━━━━━━━━\u001b[0m\u001b[37m\u001b[0m \u001b[1m1s\u001b[0m 1ms/step - loss: 5.4903e-05\n",
      "Epoch 8/10\n",
      "\u001b[1m781/781\u001b[0m \u001b[32m━━━━━━━━━━━━━━━━━━━━\u001b[0m\u001b[37m\u001b[0m \u001b[1m1s\u001b[0m 1ms/step - loss: 4.7871e-05\n",
      "Epoch 9/10\n",
      "\u001b[1m781/781\u001b[0m \u001b[32m━━━━━━━━━━━━━━━━━━━━\u001b[0m\u001b[37m\u001b[0m \u001b[1m1s\u001b[0m 1ms/step - loss: 4.2342e-05\n",
      "Epoch 10/10\n",
      "\u001b[1m781/781\u001b[0m \u001b[32m━━━━━━━━━━━━━━━━━━━━\u001b[0m\u001b[37m\u001b[0m \u001b[1m1s\u001b[0m 1ms/step - loss: 3.6642e-05\n",
      "Epoch 1/10\n"
     ]
    },
    {
     "name": "stderr",
     "output_type": "stream",
     "text": [
      "C:\\Users\\Zelin\\AppData\\Roaming\\Python\\Python312\\site-packages\\keras\\src\\layers\\rnn\\rnn.py:200: UserWarning: Do not pass an `input_shape`/`input_dim` argument to a layer. When using Sequential models, prefer using an `Input(shape)` object as the first layer in the model instead.\n",
      "  super().__init__(**kwargs)\n"
     ]
    },
    {
     "name": "stdout",
     "output_type": "stream",
     "text": [
      "\u001b[1m781/781\u001b[0m \u001b[32m━━━━━━━━━━━━━━━━━━━━\u001b[0m\u001b[37m\u001b[0m \u001b[1m3s\u001b[0m 1ms/step - loss: 0.1036\n",
      "Epoch 2/10\n",
      "\u001b[1m781/781\u001b[0m \u001b[32m━━━━━━━━━━━━━━━━━━━━\u001b[0m\u001b[37m\u001b[0m \u001b[1m1s\u001b[0m 1ms/step - loss: 8.2806e-04\n",
      "Epoch 3/10\n",
      "\u001b[1m781/781\u001b[0m \u001b[32m━━━━━━━━━━━━━━━━━━━━\u001b[0m\u001b[37m\u001b[0m \u001b[1m1s\u001b[0m 1ms/step - loss: 2.5256e-04\n",
      "Epoch 4/10\n",
      "\u001b[1m781/781\u001b[0m \u001b[32m━━━━━━━━━━━━━━━━━━━━\u001b[0m\u001b[37m\u001b[0m \u001b[1m1s\u001b[0m 1ms/step - loss: 1.2491e-04\n",
      "Epoch 5/10\n",
      "\u001b[1m781/781\u001b[0m \u001b[32m━━━━━━━━━━━━━━━━━━━━\u001b[0m\u001b[37m\u001b[0m \u001b[1m1s\u001b[0m 1ms/step - loss: 6.7532e-05\n",
      "Epoch 6/10\n",
      "\u001b[1m781/781\u001b[0m \u001b[32m━━━━━━━━━━━━━━━━━━━━\u001b[0m\u001b[37m\u001b[0m \u001b[1m1s\u001b[0m 1ms/step - loss: 5.0537e-05\n",
      "Epoch 7/10\n",
      "\u001b[1m781/781\u001b[0m \u001b[32m━━━━━━━━━━━━━━━━━━━━\u001b[0m\u001b[37m\u001b[0m \u001b[1m1s\u001b[0m 1ms/step - loss: 4.2687e-05\n",
      "Epoch 8/10\n",
      "\u001b[1m781/781\u001b[0m \u001b[32m━━━━━━━━━━━━━━━━━━━━\u001b[0m\u001b[37m\u001b[0m \u001b[1m1s\u001b[0m 1ms/step - loss: 3.6965e-05\n",
      "Epoch 9/10\n",
      "\u001b[1m781/781\u001b[0m \u001b[32m━━━━━━━━━━━━━━━━━━━━\u001b[0m\u001b[37m\u001b[0m \u001b[1m1s\u001b[0m 1ms/step - loss: 2.7426e-05\n",
      "Epoch 10/10\n",
      "\u001b[1m781/781\u001b[0m \u001b[32m━━━━━━━━━━━━━━━━━━━━\u001b[0m\u001b[37m\u001b[0m \u001b[1m1s\u001b[0m 1ms/step - loss: 2.3171e-05\n",
      "所有模型训练完成，并已保存。\n"
     ]
    }
   ],
   "source": [
    "import numpy as np\n",
    "import pandas as pd\n",
    "import tensorflow as tf\n",
    "from tensorflow.keras.models import Sequential\n",
    "from tensorflow.keras.layers import LSTM, Dense\n",
    "from sklearn.preprocessing import MinMaxScaler\n",
    "import joblib\n",
    "\n",
    "# 读取输入数据\n",
    "input_file = \"input.csv\"  # 输入 CSV 文件\n",
    "output_file = \"output.csv\"  # 输出 CSV 文件\n",
    "\n",
    "df_input = pd.read_csv(input_file)\n",
    "df_output = pd.read_csv(output_file)\n",
    "\n",
    "# 选择输入特征\n",
    "input_features = [\"Time\", \"AntriebsmomentVA\", \"AntriebsmomentHA\", \"Lenkwinkel\", \"BremsmomentVA\", \"BremsmomentHA\", \"Geschw_S\"]\n",
    "output_features = [\"Time\", \"KS_X\", \"KS_Y\", \"Gierwinkel\", \"Geschw_X\", \"Geschw_Y\", \"Giergeschwindigkeit\"]\n",
    "\n",
    "# 归一化数据\n",
    "scalers = {}\n",
    "for feature in input_features:\n",
    "    scaler = MinMaxScaler()\n",
    "    df_input[feature] = scaler.fit_transform(df_input[[feature]])\n",
    "    scalers[feature] = scaler\n",
    "\n",
    "for feature in output_features:\n",
    "    scaler = MinMaxScaler()\n",
    "    df_output[feature] = scaler.fit_transform(df_output[[feature]])\n",
    "    scalers[feature] = scaler\n",
    "\n",
    "# 保存归一化器\n",
    "joblib.dump(scalers, \"scalers.pkl\")\n",
    "\n",
    "# 创建时间序列数据集\n",
    "def create_sequences(X, y, time_steps=10):\n",
    "    Xs, ys = [], []\n",
    "    for i in range(len(X) - time_steps):\n",
    "        Xs.append(X[i:i + time_steps])\n",
    "        ys.append(y[i + time_steps])\n",
    "    return np.array(Xs), np.array(ys)\n",
    "\n",
    "# 第一阶段：训练 Giergeschwindigkeit 预测模型\n",
    "X1, y1 = create_sequences(df_input[input_features].values, df_output[\"Giergeschwindigkeit\"].values)\n",
    "\n",
    "model1 = Sequential([\n",
    "    LSTM(50, activation='relu', return_sequences=True, input_shape=(X1.shape[1], X1.shape[2])),\n",
    "    LSTM(50, activation='relu'),\n",
    "    Dense(1)\n",
    "])\n",
    "\n",
    "model1.compile(optimizer='adam', loss='mse')\n",
    "model1.fit(X1, y1, epochs=10, batch_size=32, verbose=1)\n",
    "model1.save(\"model_giergeschwindigkeit.keras\")\n",
    "\n",
    "# 第二阶段：训练 Gierwinkel 预测模型\n",
    "X2 = np.hstack([df_input[[\"Time\", \"Lenkwinkel\"]].values[len(df_input) - len(y1):], y1.reshape(-1, 1)])\n",
    "X2 = X2.reshape(X2.shape[0], 1, X2.shape[1])\n",
    "y2 = df_output[\"Gierwinkel\"].values[len(df_output) - len(X2):]\n",
    "\n",
    "model2 = Sequential([\n",
    "    LSTM(50, activation='relu', return_sequences=True, input_shape=(X2.shape[1], X2.shape[2])),\n",
    "    LSTM(50, activation='relu'),\n",
    "    Dense(1)\n",
    "])\n",
    "\n",
    "model2.compile(optimizer='adam', loss='mse')\n",
    "model2.fit(X2, y2, epochs=10, batch_size=32, verbose=1)\n",
    "model2.save(\"model_gierwinkel.keras\")\n",
    "\n",
    "# 第三阶段：训练 Geschw_X, Geschw_Y 预测模型\n",
    "X3 = np.hstack([df_input[[\"Time\", \"Lenkwinkel\", \"Geschw_S\"]].values[len(df_input) - len(y2):], y2.reshape(-1, 1)])\n",
    "X3 = X3.reshape(X3.shape[0], 1, X3.shape[1])\n",
    "y3 = df_output[[\"Geschw_X\", \"Geschw_Y\"]].values[len(df_output) - len(X3):]\n",
    "\n",
    "model3 = Sequential([\n",
    "    LSTM(50, activation='relu', return_sequences=True, input_shape=(X3.shape[1], X3.shape[2])),\n",
    "    LSTM(50, activation='relu'),\n",
    "    Dense(2)\n",
    "])\n",
    "\n",
    "model3.compile(optimizer='adam', loss='mse')\n",
    "model3.fit(X3, y3, epochs=10, batch_size=32, verbose=1)\n",
    "model3.save(\"model_geschw.keras\")\n",
    "\n",
    "# 第四阶段：训练 KS_X, KS_Y 预测模型\n",
    "X4 = np.hstack([df_input[[\"Time\", \"Lenkwinkel\"]].values[len(df_input) - len(y3):], y3])\n",
    "X4 = X4.reshape(X4.shape[0], 1, X4.shape[1])\n",
    "y4 = df_output[[\"KS_X\", \"KS_Y\"]].values[len(df_output) - len(X4):]\n",
    "\n",
    "model4 = Sequential([\n",
    "    LSTM(50, activation='relu', return_sequences=True, input_shape=(X4.shape[1], X4.shape[2])),\n",
    "    LSTM(50, activation='relu'),\n",
    "    Dense(2)\n",
    "])\n",
    "\n",
    "model4.compile(optimizer='adam', loss='mse')\n",
    "model4.fit(X4, y4, epochs=10, batch_size=32, verbose=1)\n",
    "model4.save(\"model_ks.keras\")\n",
    "\n",
    "print(\"所有模型训练完成，并已保存。\")\n"
   ]
  },
  {
   "cell_type": "code",
   "execution_count": null,
   "id": "0b6fe868-722e-4500-b42f-31b98aa8dffd",
   "metadata": {},
   "outputs": [],
   "source": []
  }
 ],
 "metadata": {
  "kernelspec": {
   "display_name": "Python [conda env:base] *",
   "language": "python",
   "name": "conda-base-py"
  },
  "language_info": {
   "codemirror_mode": {
    "name": "ipython",
    "version": 3
   },
   "file_extension": ".py",
   "mimetype": "text/x-python",
   "name": "python",
   "nbconvert_exporter": "python",
   "pygments_lexer": "ipython3",
   "version": "3.12.7"
  }
 },
 "nbformat": 4,
 "nbformat_minor": 5
}
